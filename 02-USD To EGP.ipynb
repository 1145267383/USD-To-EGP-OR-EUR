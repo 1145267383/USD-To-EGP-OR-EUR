{
 "cells": [
  {
   "cell_type": "code",
   "execution_count": 1,
   "id": "62706cad",
   "metadata": {},
   "outputs": [],
   "source": [
    "import pandas as pd\n",
    "import requests as rt \n",
    "from bs4 import BeautifulSoup as sp"
   ]
  },
  {
   "cell_type": "code",
   "execution_count": 3,
   "id": "38a2b6d7",
   "metadata": {},
   "outputs": [
    {
     "data": {
      "text/plain": [
       "15.712"
      ]
     },
     "execution_count": 3,
     "metadata": {},
     "output_type": "execute_result"
    }
   ],
   "source": [
    "web = rt.get(\"https://www.exchangerates.org.uk/Dollars-to-Egyptian-Pounds-currency-conversion-page.html\")\n",
    "soup = sp(web.text)\n",
    "find = soup.find_all(\"span\", {\"id\":\"shd2b;\"})\n",
    "us_eg=float(find[0].get_text())\n",
    "us_eg"
   ]
  },
  {
   "cell_type": "code",
   "execution_count": 15,
   "id": "22844bb0",
   "metadata": {
    "scrolled": true
   },
   "outputs": [
    {
     "name": "stdout",
     "output_type": "stream",
     "text": [
      "your convert   1>for>(USD to EGP) OR  2>for>(EGP to USD): 1\n",
      "Enter the amount >>USD:1\n",
      "1'USD = 15.712'EGP\n"
     ]
    }
   ],
   "source": [
    "#chose convert.\n",
    "while True:\n",
    "    i=input(\"your convert   1>for>(USD to EGP) OR  2>for>(EGP to USD): \")\n",
    "    if i==\"1\" or i==\"2\":\n",
    "        p={\"1\":\"USD to EGP\",\"2\":\"EGP to USD\"}\n",
    "        con=p[i]\n",
    "        break\n",
    "    print(\"This not chose! try agen\")\n",
    "\n",
    "#Enter amount.\n",
    "while True:\n",
    "    try:\n",
    "        c=con.split(\" to \")[0]\n",
    "        amount=int(input(f\"Enter the amount >>{c}:\"))\n",
    "        break\n",
    "    except:\n",
    "        print(\"This not number! try agen\")\n",
    "# convert\n",
    "if con==\"USD to EGP\":\n",
    "    con_amt = amount*us_eg\n",
    "    t=con.split(\" to \")\n",
    "else:\n",
    "    con_amt = amount/us_eg\n",
    "    t=con.split(\" to \")\n",
    "print(f\"{amount}'{t[0]} = {con_amt}'{t[1]}\")"
   ]
  },
  {
   "cell_type": "code",
   "execution_count": null,
   "id": "78720727",
   "metadata": {},
   "outputs": [],
   "source": []
  }
 ],
 "metadata": {
  "kernelspec": {
   "display_name": "Python 3",
   "language": "python",
   "name": "python3"
  },
  "language_info": {
   "codemirror_mode": {
    "name": "ipython",
    "version": 3
   },
   "file_extension": ".py",
   "mimetype": "text/x-python",
   "name": "python",
   "nbconvert_exporter": "python",
   "pygments_lexer": "ipython3",
   "version": "3.8.8"
  }
 },
 "nbformat": 4,
 "nbformat_minor": 5
}
